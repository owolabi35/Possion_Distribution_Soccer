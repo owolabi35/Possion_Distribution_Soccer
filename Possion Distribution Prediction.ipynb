{
 "cells": [
  {
   "cell_type": "code",
   "execution_count": 1,
   "id": "debf77ce",
   "metadata": {},
   "outputs": [
    {
     "name": "stdout",
     "output_type": "stream",
     "text": [
      "<class 'pandas.core.frame.DataFrame'>\n",
      "RangeIndex: 41639 entries, 0 to 41638\n",
      "Data columns (total 9 columns):\n",
      " #   Column      Non-Null Count  Dtype \n",
      "---  ------      --------------  ----- \n",
      " 0   date        41639 non-null  object\n",
      " 1   home_team   41639 non-null  object\n",
      " 2   away_team   41639 non-null  object\n",
      " 3   home_score  41639 non-null  int64 \n",
      " 4   away_score  41639 non-null  int64 \n",
      " 5   tournament  41639 non-null  object\n",
      " 6   city        41639 non-null  object\n",
      " 7   country     41639 non-null  object\n",
      " 8   neutral     41639 non-null  bool  \n",
      "dtypes: bool(1), int64(2), object(6)\n",
      "memory usage: 2.6+ MB\n"
     ]
    }
   ],
   "source": [
    "import pandas as pd\n",
    "data = pd.read_csv('score_prediction.csv', encoding='latin-1')\n",
    "data.info()"
   ]
  },
  {
   "cell_type": "code",
   "execution_count": 2,
   "id": "884bad23",
   "metadata": {},
   "outputs": [
    {
     "data": {
      "text/html": [
       "<div>\n",
       "<style scoped>\n",
       "    .dataframe tbody tr th:only-of-type {\n",
       "        vertical-align: middle;\n",
       "    }\n",
       "\n",
       "    .dataframe tbody tr th {\n",
       "        vertical-align: top;\n",
       "    }\n",
       "\n",
       "    .dataframe thead th {\n",
       "        text-align: right;\n",
       "    }\n",
       "</style>\n",
       "<table border=\"1\" class=\"dataframe\">\n",
       "  <thead>\n",
       "    <tr style=\"text-align: right;\">\n",
       "      <th></th>\n",
       "      <th>date</th>\n",
       "      <th>home_team</th>\n",
       "      <th>away_team</th>\n",
       "      <th>home_score</th>\n",
       "      <th>away_score</th>\n",
       "      <th>tournament</th>\n",
       "      <th>city</th>\n",
       "      <th>country</th>\n",
       "      <th>neutral</th>\n",
       "    </tr>\n",
       "  </thead>\n",
       "  <tbody>\n",
       "    <tr>\n",
       "      <th>0</th>\n",
       "      <td>1873-03-08</td>\n",
       "      <td>England</td>\n",
       "      <td>Scotland</td>\n",
       "      <td>4</td>\n",
       "      <td>2</td>\n",
       "      <td>Friendly</td>\n",
       "      <td>London</td>\n",
       "      <td>England</td>\n",
       "      <td>False</td>\n",
       "    </tr>\n",
       "    <tr>\n",
       "      <th>1</th>\n",
       "      <td>1874-03-07</td>\n",
       "      <td>Scotland</td>\n",
       "      <td>England</td>\n",
       "      <td>2</td>\n",
       "      <td>1</td>\n",
       "      <td>Friendly</td>\n",
       "      <td>Glasgow</td>\n",
       "      <td>Scotland</td>\n",
       "      <td>False</td>\n",
       "    </tr>\n",
       "    <tr>\n",
       "      <th>2</th>\n",
       "      <td>1875-03-06</td>\n",
       "      <td>England</td>\n",
       "      <td>Scotland</td>\n",
       "      <td>2</td>\n",
       "      <td>2</td>\n",
       "      <td>Friendly</td>\n",
       "      <td>London</td>\n",
       "      <td>England</td>\n",
       "      <td>False</td>\n",
       "    </tr>\n",
       "    <tr>\n",
       "      <th>3</th>\n",
       "      <td>1876-03-04</td>\n",
       "      <td>Scotland</td>\n",
       "      <td>England</td>\n",
       "      <td>3</td>\n",
       "      <td>0</td>\n",
       "      <td>Friendly</td>\n",
       "      <td>Glasgow</td>\n",
       "      <td>Scotland</td>\n",
       "      <td>False</td>\n",
       "    </tr>\n",
       "    <tr>\n",
       "      <th>4</th>\n",
       "      <td>1876-03-25</td>\n",
       "      <td>Scotland</td>\n",
       "      <td>Wales</td>\n",
       "      <td>4</td>\n",
       "      <td>0</td>\n",
       "      <td>Friendly</td>\n",
       "      <td>Glasgow</td>\n",
       "      <td>Scotland</td>\n",
       "      <td>False</td>\n",
       "    </tr>\n",
       "  </tbody>\n",
       "</table>\n",
       "</div>"
      ],
      "text/plain": [
       "         date home_team away_team  home_score  away_score tournament     city  \\\n",
       "0  1873-03-08   England  Scotland           4           2   Friendly   London   \n",
       "1  1874-03-07  Scotland   England           2           1   Friendly  Glasgow   \n",
       "2  1875-03-06   England  Scotland           2           2   Friendly   London   \n",
       "3  1876-03-04  Scotland   England           3           0   Friendly  Glasgow   \n",
       "4  1876-03-25  Scotland     Wales           4           0   Friendly  Glasgow   \n",
       "\n",
       "    country  neutral  \n",
       "0   England    False  \n",
       "1  Scotland    False  \n",
       "2   England    False  \n",
       "3  Scotland    False  \n",
       "4  Scotland    False  "
      ]
     },
     "execution_count": 2,
     "metadata": {},
     "output_type": "execute_result"
    }
   ],
   "source": [
    "data.head()"
   ]
  },
  {
   "cell_type": "code",
   "execution_count": 3,
   "id": "d76ca3cf",
   "metadata": {},
   "outputs": [
    {
     "data": {
      "text/html": [
       "<div>\n",
       "<style scoped>\n",
       "    .dataframe tbody tr th:only-of-type {\n",
       "        vertical-align: middle;\n",
       "    }\n",
       "\n",
       "    .dataframe tbody tr th {\n",
       "        vertical-align: top;\n",
       "    }\n",
       "\n",
       "    .dataframe thead th {\n",
       "        text-align: right;\n",
       "    }\n",
       "</style>\n",
       "<table border=\"1\" class=\"dataframe\">\n",
       "  <thead>\n",
       "    <tr style=\"text-align: right;\">\n",
       "      <th></th>\n",
       "      <th>date</th>\n",
       "      <th>home_team</th>\n",
       "      <th>away_team</th>\n",
       "      <th>home_score</th>\n",
       "      <th>away_score</th>\n",
       "      <th>tournament</th>\n",
       "      <th>city</th>\n",
       "      <th>country</th>\n",
       "      <th>neutral</th>\n",
       "    </tr>\n",
       "  </thead>\n",
       "  <tbody>\n",
       "    <tr>\n",
       "      <th>41634</th>\n",
       "      <td>2020-9-8</td>\n",
       "      <td>Luxembourg</td>\n",
       "      <td>Montenegro</td>\n",
       "      <td>0</td>\n",
       "      <td>1</td>\n",
       "      <td>UEFA Nations League</td>\n",
       "      <td>Luxembourg City</td>\n",
       "      <td>Luxembourg</td>\n",
       "      <td>False</td>\n",
       "    </tr>\n",
       "    <tr>\n",
       "      <th>41635</th>\n",
       "      <td>2020-9-8</td>\n",
       "      <td>Cyprus</td>\n",
       "      <td>Azerbaijan</td>\n",
       "      <td>0</td>\n",
       "      <td>1</td>\n",
       "      <td>UEFA Nations League</td>\n",
       "      <td>Nicosia</td>\n",
       "      <td>Cyprus</td>\n",
       "      <td>False</td>\n",
       "    </tr>\n",
       "    <tr>\n",
       "      <th>41636</th>\n",
       "      <td>2020-9-8</td>\n",
       "      <td>Armenia</td>\n",
       "      <td>Estonia</td>\n",
       "      <td>2</td>\n",
       "      <td>0</td>\n",
       "      <td>UEFA Nations League</td>\n",
       "      <td>Yerevan</td>\n",
       "      <td>Armenia</td>\n",
       "      <td>False</td>\n",
       "    </tr>\n",
       "    <tr>\n",
       "      <th>41637</th>\n",
       "      <td>2020-9-8</td>\n",
       "      <td>Georgia</td>\n",
       "      <td>North Macedonia</td>\n",
       "      <td>1</td>\n",
       "      <td>1</td>\n",
       "      <td>UEFA Nations League</td>\n",
       "      <td>Tbilisi</td>\n",
       "      <td>Georgia</td>\n",
       "      <td>False</td>\n",
       "    </tr>\n",
       "    <tr>\n",
       "      <th>41638</th>\n",
       "      <td>2020-9-8</td>\n",
       "      <td>San Marino</td>\n",
       "      <td>Liechtenstein</td>\n",
       "      <td>0</td>\n",
       "      <td>2</td>\n",
       "      <td>UEFA Nations League</td>\n",
       "      <td>Rimini</td>\n",
       "      <td>Italy</td>\n",
       "      <td>True</td>\n",
       "    </tr>\n",
       "  </tbody>\n",
       "</table>\n",
       "</div>"
      ],
      "text/plain": [
       "           date   home_team        away_team  home_score  away_score  \\\n",
       "41634  2020-9-8  Luxembourg       Montenegro           0           1   \n",
       "41635  2020-9-8      Cyprus       Azerbaijan           0           1   \n",
       "41636  2020-9-8     Armenia          Estonia           2           0   \n",
       "41637  2020-9-8     Georgia  North Macedonia           1           1   \n",
       "41638  2020-9-8  San Marino    Liechtenstein           0           2   \n",
       "\n",
       "                tournament             city     country  neutral  \n",
       "41634  UEFA Nations League  Luxembourg City  Luxembourg    False  \n",
       "41635  UEFA Nations League          Nicosia      Cyprus    False  \n",
       "41636  UEFA Nations League          Yerevan     Armenia    False  \n",
       "41637  UEFA Nations League          Tbilisi     Georgia    False  \n",
       "41638  UEFA Nations League           Rimini       Italy     True  "
      ]
     },
     "execution_count": 3,
     "metadata": {},
     "output_type": "execute_result"
    }
   ],
   "source": [
    "data.tail()"
   ]
  },
  {
   "cell_type": "code",
   "execution_count": 4,
   "id": "6f991af0",
   "metadata": {},
   "outputs": [
    {
     "data": {
      "text/html": [
       "<div>\n",
       "<style scoped>\n",
       "    .dataframe tbody tr th:only-of-type {\n",
       "        vertical-align: middle;\n",
       "    }\n",
       "\n",
       "    .dataframe tbody tr th {\n",
       "        vertical-align: top;\n",
       "    }\n",
       "\n",
       "    .dataframe thead th {\n",
       "        text-align: right;\n",
       "    }\n",
       "</style>\n",
       "<table border=\"1\" class=\"dataframe\">\n",
       "  <thead>\n",
       "    <tr style=\"text-align: right;\">\n",
       "      <th></th>\n",
       "      <th>home_score</th>\n",
       "      <th>away_score</th>\n",
       "    </tr>\n",
       "  </thead>\n",
       "  <tbody>\n",
       "    <tr>\n",
       "      <th>count</th>\n",
       "      <td>41639.000000</td>\n",
       "      <td>41639.000000</td>\n",
       "    </tr>\n",
       "    <tr>\n",
       "      <th>mean</th>\n",
       "      <td>1.744855</td>\n",
       "      <td>1.187709</td>\n",
       "    </tr>\n",
       "    <tr>\n",
       "      <th>std</th>\n",
       "      <td>1.753366</td>\n",
       "      <td>1.404833</td>\n",
       "    </tr>\n",
       "    <tr>\n",
       "      <th>min</th>\n",
       "      <td>0.000000</td>\n",
       "      <td>0.000000</td>\n",
       "    </tr>\n",
       "    <tr>\n",
       "      <th>25%</th>\n",
       "      <td>1.000000</td>\n",
       "      <td>0.000000</td>\n",
       "    </tr>\n",
       "    <tr>\n",
       "      <th>50%</th>\n",
       "      <td>1.000000</td>\n",
       "      <td>1.000000</td>\n",
       "    </tr>\n",
       "    <tr>\n",
       "      <th>75%</th>\n",
       "      <td>2.000000</td>\n",
       "      <td>2.000000</td>\n",
       "    </tr>\n",
       "    <tr>\n",
       "      <th>max</th>\n",
       "      <td>31.000000</td>\n",
       "      <td>21.000000</td>\n",
       "    </tr>\n",
       "  </tbody>\n",
       "</table>\n",
       "</div>"
      ],
      "text/plain": [
       "         home_score    away_score\n",
       "count  41639.000000  41639.000000\n",
       "mean       1.744855      1.187709\n",
       "std        1.753366      1.404833\n",
       "min        0.000000      0.000000\n",
       "25%        1.000000      0.000000\n",
       "50%        1.000000      1.000000\n",
       "75%        2.000000      2.000000\n",
       "max       31.000000     21.000000"
      ]
     },
     "execution_count": 4,
     "metadata": {},
     "output_type": "execute_result"
    }
   ],
   "source": [
    "data.describe()"
   ]
  },
  {
   "cell_type": "markdown",
   "id": "9f6da85c",
   "metadata": {},
   "source": [
    "Let`s start with finding the average goals we can expect within 90 minutes.\n",
    "\n",
    "For this, I have created a separate dataset filtering out data for matches played in the 21st century(2000-2020) and added the home_score and away_score to find out the total no. of goals occurring in each match and then taken the mean of the total goals column to get the average goals we can expect in a match."
   ]
  },
  {
   "cell_type": "code",
   "execution_count": 5,
   "id": "10f73849",
   "metadata": {},
   "outputs": [
    {
     "name": "stdout",
     "output_type": "stream",
     "text": [
      "2.744112130054189\n"
     ]
    }
   ],
   "source": [
    "data['total_goals']=data['home_score']+data['away_score']\n",
    "data['date']=data['date'].apply(lambda x : int(str.split(x,'-')[0]))\n",
    "rec_data=data.loc[(data['date']>=2000)]\n",
    "rec_data.iloc[[rec_data.total_goals.argmax()]]\n",
    "print(rec_data.total_goals.mean())"
   ]
  },
  {
   "cell_type": "markdown",
   "id": "778d4b95",
   "metadata": {},
   "source": [
    "Now putting this expectation in Poissson Distribution formula let`s see what are the actual chances of seeing 3 goals in a match."
   ]
  },
  {
   "cell_type": "code",
   "execution_count": 6,
   "id": "3cccc5c8",
   "metadata": {},
   "outputs": [
    {
     "data": {
      "text/html": [
       "<div>\n",
       "<style scoped>\n",
       "    .dataframe tbody tr th:only-of-type {\n",
       "        vertical-align: middle;\n",
       "    }\n",
       "\n",
       "    .dataframe tbody tr th {\n",
       "        vertical-align: top;\n",
       "    }\n",
       "\n",
       "    .dataframe thead th {\n",
       "        text-align: right;\n",
       "    }\n",
       "</style>\n",
       "<table border=\"1\" class=\"dataframe\">\n",
       "  <thead>\n",
       "    <tr style=\"text-align: right;\">\n",
       "      <th></th>\n",
       "      <th>date</th>\n",
       "      <th>home_team</th>\n",
       "      <th>away_team</th>\n",
       "      <th>home_score</th>\n",
       "      <th>away_score</th>\n",
       "      <th>tournament</th>\n",
       "      <th>city</th>\n",
       "      <th>country</th>\n",
       "      <th>neutral</th>\n",
       "      <th>total_goals</th>\n",
       "    </tr>\n",
       "  </thead>\n",
       "  <tbody>\n",
       "    <tr>\n",
       "      <th>23795</th>\n",
       "      <td>2001</td>\n",
       "      <td>Australia</td>\n",
       "      <td>American Samoa</td>\n",
       "      <td>31</td>\n",
       "      <td>0</td>\n",
       "      <td>FIFA World Cup qualification</td>\n",
       "      <td>Coffs Harbour</td>\n",
       "      <td>Australia</td>\n",
       "      <td>False</td>\n",
       "      <td>31</td>\n",
       "    </tr>\n",
       "  </tbody>\n",
       "</table>\n",
       "</div>"
      ],
      "text/plain": [
       "       date  home_team       away_team  home_score  away_score  \\\n",
       "23795  2001  Australia  American Samoa          31           0   \n",
       "\n",
       "                         tournament           city    country  neutral  \\\n",
       "23795  FIFA World Cup qualification  Coffs Harbour  Australia    False   \n",
       "\n",
       "       total_goals  \n",
       "23795           31  "
      ]
     },
     "execution_count": 6,
     "metadata": {},
     "output_type": "execute_result"
    }
   ],
   "source": [
    "import numpy as np\n",
    "data.loc[[np.argmax(data.total_goals)]]"
   ]
  },
  {
   "cell_type": "code",
   "execution_count": 7,
   "id": "988a3a9f",
   "metadata": {},
   "outputs": [
    {
     "name": "stderr",
     "output_type": "stream",
     "text": [
      "Matplotlib is building the font cache; this may take a moment.\n"
     ]
    },
    {
     "data": {
      "text/plain": [
       "([<matplotlib.axis.XTick at 0x237ceac6760>,\n",
       "  <matplotlib.axis.XTick at 0x237ceac6730>,\n",
       "  <matplotlib.axis.XTick at 0x237ceab0340>,\n",
       "  <matplotlib.axis.XTick at 0x237ceb58130>,\n",
       "  <matplotlib.axis.XTick at 0x237ceb58880>,\n",
       "  <matplotlib.axis.XTick at 0x237ceb610d0>,\n",
       "  <matplotlib.axis.XTick at 0x237ceb61760>,\n",
       "  <matplotlib.axis.XTick at 0x237ceb58ca0>,\n",
       "  <matplotlib.axis.XTick at 0x237ceb61910>,\n",
       "  <matplotlib.axis.XTick at 0x237ceb681c0>,\n",
       "  <matplotlib.axis.XTick at 0x237ceb68910>,\n",
       "  <matplotlib.axis.XTick at 0x237ceb6e160>,\n",
       "  <matplotlib.axis.XTick at 0x237ceb6e7f0>,\n",
       "  <matplotlib.axis.XTick at 0x237ceb6ef40>,\n",
       "  <matplotlib.axis.XTick at 0x237ceb6e850>,\n",
       "  <matplotlib.axis.XTick at 0x237ceb684f0>,\n",
       "  <matplotlib.axis.XTick at 0x237ceb73490>,\n",
       "  <matplotlib.axis.XTick at 0x237ceb73be0>],\n",
       " [Text(0, 0, ''),\n",
       "  Text(0, 0, ''),\n",
       "  Text(0, 0, ''),\n",
       "  Text(0, 0, ''),\n",
       "  Text(0, 0, ''),\n",
       "  Text(0, 0, ''),\n",
       "  Text(0, 0, ''),\n",
       "  Text(0, 0, ''),\n",
       "  Text(0, 0, ''),\n",
       "  Text(0, 0, ''),\n",
       "  Text(0, 0, ''),\n",
       "  Text(0, 0, ''),\n",
       "  Text(0, 0, ''),\n",
       "  Text(0, 0, ''),\n",
       "  Text(0, 0, ''),\n",
       "  Text(0, 0, ''),\n",
       "  Text(0, 0, ''),\n",
       "  Text(0, 0, '')])"
      ]
     },
     "execution_count": 7,
     "metadata": {},
     "output_type": "execute_result"
    },
    {
     "data": {
      "image/png": "[encoded data removed]",
      "text/plain": [
       "<Figure size 720x360 with 1 Axes>"
      ]
     },
     "metadata": {
      "needs_background": "light"
     },
     "output_type": "display_data"
    }
   ],
   "source": [
    "# most_probable home score\n",
    "import matplotlib.pyplot as plt\n",
    "%matplotlib inline\n",
    "fig = plt.figure(figsize = (10,5))\n",
    "ax = fig.gca()\n",
    "plt.hist(data.home_score,bins=30,edgecolor='white')\n",
    "plt.xticks(range(18))"
   ]
  },
  {
   "cell_type": "code",
   "execution_count": 8,
   "id": "7422e63f",
   "metadata": {},
   "outputs": [],
   "source": [
    "#data.drop('Total_goals',axis=1,inplace=True)"
   ]
  },
  {
   "cell_type": "code",
   "execution_count": 9,
   "id": "bf85c48b",
   "metadata": {},
   "outputs": [
    {
     "data": {
      "text/plain": [
       "([<matplotlib.axis.XTick at 0x237cfbfd9a0>,\n",
       "  <matplotlib.axis.XTick at 0x237cfbfd970>,\n",
       "  <matplotlib.axis.XTick at 0x237cebb0fd0>,\n",
       "  <matplotlib.axis.XTick at 0x237cfc71220>,\n",
       "  <matplotlib.axis.XTick at 0x237cfc71970>,\n",
       "  <matplotlib.axis.XTick at 0x237cfc72100>,\n",
       "  <matplotlib.axis.XTick at 0x237cfc72850>,\n",
       "  <matplotlib.axis.XTick at 0x237cfc719a0>,\n",
       "  <matplotlib.axis.XTick at 0x237cfc72550>,\n",
       "  <matplotlib.axis.XTick at 0x237cfc7f340>,\n",
       "  <matplotlib.axis.XTick at 0x237cfc7fa90>,\n",
       "  <matplotlib.axis.XTick at 0x237cfc84220>,\n",
       "  <matplotlib.axis.XTick at 0x237cfc84970>,\n",
       "  <matplotlib.axis.XTick at 0x237cfc84c70>,\n",
       "  <matplotlib.axis.XTick at 0x237cfc7faf0>,\n",
       "  <matplotlib.axis.XTick at 0x237cfc71b20>,\n",
       "  <matplotlib.axis.XTick at 0x237cfc8c6a0>,\n",
       "  <matplotlib.axis.XTick at 0x237cfc8cdf0>,\n",
       "  <matplotlib.axis.XTick at 0x237cfc92580>,\n",
       "  <matplotlib.axis.XTick at 0x237cfc92cd0>],\n",
       " [Text(0, 0, ''),\n",
       "  Text(0, 0, ''),\n",
       "  Text(0, 0, ''),\n",
       "  Text(0, 0, ''),\n",
       "  Text(0, 0, ''),\n",
       "  Text(0, 0, ''),\n",
       "  Text(0, 0, ''),\n",
       "  Text(0, 0, ''),\n",
       "  Text(0, 0, ''),\n",
       "  Text(0, 0, ''),\n",
       "  Text(0, 0, ''),\n",
       "  Text(0, 0, ''),\n",
       "  Text(0, 0, ''),\n",
       "  Text(0, 0, ''),\n",
       "  Text(0, 0, ''),\n",
       "  Text(0, 0, ''),\n",
       "  Text(0, 0, ''),\n",
       "  Text(0, 0, ''),\n",
       "  Text(0, 0, ''),\n",
       "  Text(0, 0, '')])"
      ]
     },
     "execution_count": 9,
     "metadata": {},
     "output_type": "execute_result"
    },
    {
     "data": {
      "image/png": "[encoded data removed]",
      "text/plain": [
       "<Figure size 720x360 with 1 Axes>"
      ]
     },
     "metadata": {
      "needs_background": "light"
     },
     "output_type": "display_data"
    }
   ],
   "source": [
    "#most probable total goals in a match\n",
    "import matplotlib.pyplot as plt\n",
    "data['total_goals']=data['home_score']+data['away_score']\n",
    "fig = plt.figure(figsize = (10,5))\n",
    "ax = fig.gca()\n",
    "plt.hist(data.total_goals,bins=30,edgecolor='black')\n",
    "plt.xticks(range(20))"
   ]
  },
  {
   "cell_type": "code",
   "execution_count": 10,
   "id": "ecf3b696",
   "metadata": {},
   "outputs": [
    {
     "ename": "TypeError",
     "evalue": "descriptor 'split' for 'str' objects doesn't apply to a 'int' object",
     "output_type": "error",
     "traceback": [
      "\u001b[1;31m---------------------------------------------------------------------------\u001b[0m",
      "\u001b[1;31mTypeError\u001b[0m                                 Traceback (most recent call last)",
      "\u001b[1;32m~\\AppData\\Local\\Temp/ipykernel_13256/676002549.py\u001b[0m in \u001b[0;36m<module>\u001b[1;34m\u001b[0m\n\u001b[1;32m----> 1\u001b[1;33m \u001b[0mdata\u001b[0m\u001b[1;33m[\u001b[0m\u001b[1;34m'date'\u001b[0m\u001b[1;33m]\u001b[0m\u001b[1;33m=\u001b[0m\u001b[0mdata\u001b[0m\u001b[1;33m[\u001b[0m\u001b[1;34m'date'\u001b[0m\u001b[1;33m]\u001b[0m\u001b[1;33m.\u001b[0m\u001b[0mapply\u001b[0m\u001b[1;33m(\u001b[0m\u001b[1;32mlambda\u001b[0m \u001b[0mx\u001b[0m \u001b[1;33m:\u001b[0m \u001b[0mint\u001b[0m\u001b[1;33m(\u001b[0m\u001b[0mstr\u001b[0m\u001b[1;33m.\u001b[0m\u001b[0msplit\u001b[0m\u001b[1;33m(\u001b[0m\u001b[0mx\u001b[0m\u001b[1;33m,\u001b[0m\u001b[1;34m'-'\u001b[0m\u001b[1;33m)\u001b[0m\u001b[1;33m[\u001b[0m\u001b[1;36m0\u001b[0m\u001b[1;33m]\u001b[0m\u001b[1;33m)\u001b[0m\u001b[1;33m)\u001b[0m\u001b[1;33m\u001b[0m\u001b[1;33m\u001b[0m\u001b[0m\n\u001b[0m\u001b[0;32m      2\u001b[0m \u001b[0mdata\u001b[0m\u001b[1;33m[\u001b[0m\u001b[1;34m'date'\u001b[0m\u001b[1;33m]\u001b[0m\u001b[1;33m.\u001b[0m\u001b[0mvalue_counts\u001b[0m\u001b[1;33m(\u001b[0m\u001b[1;33m)\u001b[0m\u001b[1;33m\u001b[0m\u001b[1;33m\u001b[0m\u001b[0m\n\u001b[0;32m      3\u001b[0m \u001b[0mdata\u001b[0m\u001b[1;33m[\u001b[0m\u001b[1;34m'date'\u001b[0m\u001b[1;33m]\u001b[0m\u001b[1;33m.\u001b[0m\u001b[0mmin\u001b[0m\u001b[1;33m(\u001b[0m\u001b[1;33m)\u001b[0m\u001b[1;33m\u001b[0m\u001b[1;33m\u001b[0m\u001b[0m\n",
      "\u001b[1;32m~\\anaconda3\\lib\\site-packages\\pandas\\core\\series.py\u001b[0m in \u001b[0;36mapply\u001b[1;34m(self, func, convert_dtype, args, **kwargs)\u001b[0m\n\u001b[0;32m   4355\u001b[0m         \u001b[0mdtype\u001b[0m\u001b[1;33m:\u001b[0m \u001b[0mfloat64\u001b[0m\u001b[1;33m\u001b[0m\u001b[1;33m\u001b[0m\u001b[0m\n\u001b[0;32m   4356\u001b[0m         \"\"\"\n\u001b[1;32m-> 4357\u001b[1;33m         \u001b[1;32mreturn\u001b[0m \u001b[0mSeriesApply\u001b[0m\u001b[1;33m(\u001b[0m\u001b[0mself\u001b[0m\u001b[1;33m,\u001b[0m \u001b[0mfunc\u001b[0m\u001b[1;33m,\u001b[0m \u001b[0mconvert_dtype\u001b[0m\u001b[1;33m,\u001b[0m \u001b[0margs\u001b[0m\u001b[1;33m,\u001b[0m \u001b[0mkwargs\u001b[0m\u001b[1;33m)\u001b[0m\u001b[1;33m.\u001b[0m\u001b[0mapply\u001b[0m\u001b[1;33m(\u001b[0m\u001b[1;33m)\u001b[0m\u001b[1;33m\u001b[0m\u001b[1;33m\u001b[0m\u001b[0m\n\u001b[0m\u001b[0;32m   4358\u001b[0m \u001b[1;33m\u001b[0m\u001b[0m\n\u001b[0;32m   4359\u001b[0m     def _reduce(\n",
      "\u001b[1;32m~\\anaconda3\\lib\\site-packages\\pandas\\core\\apply.py\u001b[0m in \u001b[0;36mapply\u001b[1;34m(self)\u001b[0m\n\u001b[0;32m   1041\u001b[0m             \u001b[1;32mreturn\u001b[0m \u001b[0mself\u001b[0m\u001b[1;33m.\u001b[0m\u001b[0mapply_str\u001b[0m\u001b[1;33m(\u001b[0m\u001b[1;33m)\u001b[0m\u001b[1;33m\u001b[0m\u001b[1;33m\u001b[0m\u001b[0m\n\u001b[0;32m   1042\u001b[0m \u001b[1;33m\u001b[0m\u001b[0m\n\u001b[1;32m-> 1043\u001b[1;33m         \u001b[1;32mreturn\u001b[0m \u001b[0mself\u001b[0m\u001b[1;33m.\u001b[0m\u001b[0mapply_standard\u001b[0m\u001b[1;33m(\u001b[0m\u001b[1;33m)\u001b[0m\u001b[1;33m\u001b[0m\u001b[1;33m\u001b[0m\u001b[0m\n\u001b[0m\u001b[0;32m   1044\u001b[0m \u001b[1;33m\u001b[0m\u001b[0m\n\u001b[0;32m   1045\u001b[0m     \u001b[1;32mdef\u001b[0m \u001b[0magg\u001b[0m\u001b[1;33m(\u001b[0m\u001b[0mself\u001b[0m\u001b[1;33m)\u001b[0m\u001b[1;33m:\u001b[0m\u001b[1;33m\u001b[0m\u001b[1;33m\u001b[0m\u001b[0m\n",
      "\u001b[1;32m~\\anaconda3\\lib\\site-packages\\pandas\\core\\apply.py\u001b[0m in \u001b[0;36mapply_standard\u001b[1;34m(self)\u001b[0m\n\u001b[0;32m   1096\u001b[0m                 \u001b[1;31m# List[Union[Callable[..., Any], str]]]]]\"; expected\u001b[0m\u001b[1;33m\u001b[0m\u001b[1;33m\u001b[0m\u001b[0m\n\u001b[0;32m   1097\u001b[0m                 \u001b[1;31m# \"Callable[[Any], Any]\"\u001b[0m\u001b[1;33m\u001b[0m\u001b[1;33m\u001b[0m\u001b[0m\n\u001b[1;32m-> 1098\u001b[1;33m                 mapped = lib.map_infer(\n\u001b[0m\u001b[0;32m   1099\u001b[0m                     \u001b[0mvalues\u001b[0m\u001b[1;33m,\u001b[0m\u001b[1;33m\u001b[0m\u001b[1;33m\u001b[0m\u001b[0m\n\u001b[0;32m   1100\u001b[0m                     \u001b[0mf\u001b[0m\u001b[1;33m,\u001b[0m  \u001b[1;31m# type: ignore[arg-type]\u001b[0m\u001b[1;33m\u001b[0m\u001b[1;33m\u001b[0m\u001b[0m\n",
      "\u001b[1;32m~\\anaconda3\\lib\\site-packages\\pandas\\_libs\\lib.pyx\u001b[0m in \u001b[0;36mpandas._libs.lib.map_infer\u001b[1;34m()\u001b[0m\n",
      "\u001b[1;32m~\\AppData\\Local\\Temp/ipykernel_13256/676002549.py\u001b[0m in \u001b[0;36m<lambda>\u001b[1;34m(x)\u001b[0m\n\u001b[1;32m----> 1\u001b[1;33m \u001b[0mdata\u001b[0m\u001b[1;33m[\u001b[0m\u001b[1;34m'date'\u001b[0m\u001b[1;33m]\u001b[0m\u001b[1;33m=\u001b[0m\u001b[0mdata\u001b[0m\u001b[1;33m[\u001b[0m\u001b[1;34m'date'\u001b[0m\u001b[1;33m]\u001b[0m\u001b[1;33m.\u001b[0m\u001b[0mapply\u001b[0m\u001b[1;33m(\u001b[0m\u001b[1;32mlambda\u001b[0m \u001b[0mx\u001b[0m \u001b[1;33m:\u001b[0m \u001b[0mint\u001b[0m\u001b[1;33m(\u001b[0m\u001b[0mstr\u001b[0m\u001b[1;33m.\u001b[0m\u001b[0msplit\u001b[0m\u001b[1;33m(\u001b[0m\u001b[0mx\u001b[0m\u001b[1;33m,\u001b[0m\u001b[1;34m'-'\u001b[0m\u001b[1;33m)\u001b[0m\u001b[1;33m[\u001b[0m\u001b[1;36m0\u001b[0m\u001b[1;33m]\u001b[0m\u001b[1;33m)\u001b[0m\u001b[1;33m)\u001b[0m\u001b[1;33m\u001b[0m\u001b[1;33m\u001b[0m\u001b[0m\n\u001b[0m\u001b[0;32m      2\u001b[0m \u001b[0mdata\u001b[0m\u001b[1;33m[\u001b[0m\u001b[1;34m'date'\u001b[0m\u001b[1;33m]\u001b[0m\u001b[1;33m.\u001b[0m\u001b[0mvalue_counts\u001b[0m\u001b[1;33m(\u001b[0m\u001b[1;33m)\u001b[0m\u001b[1;33m\u001b[0m\u001b[1;33m\u001b[0m\u001b[0m\n\u001b[0;32m      3\u001b[0m \u001b[0mdata\u001b[0m\u001b[1;33m[\u001b[0m\u001b[1;34m'date'\u001b[0m\u001b[1;33m]\u001b[0m\u001b[1;33m.\u001b[0m\u001b[0mmin\u001b[0m\u001b[1;33m(\u001b[0m\u001b[1;33m)\u001b[0m\u001b[1;33m\u001b[0m\u001b[1;33m\u001b[0m\u001b[0m\n",
      "\u001b[1;31mTypeError\u001b[0m: descriptor 'split' for 'str' objects doesn't apply to a 'int' object"
     ]
    }
   ],
   "source": [
    "data['date']=data['date'].apply(lambda x : int(str.split(x,'-')[0]))\n",
    "data['date'].value_counts()\n",
    "data['date'].min()"
   ]
  },
  {
   "cell_type": "code",
   "execution_count": 12,
   "id": "b8987d0d",
   "metadata": {},
   "outputs": [
    {
     "data": {
      "text/plain": [
       "([<matplotlib.axis.XTick at 0x237d0fef1f0>,\n",
       "  <matplotlib.axis.XTick at 0x237d0fef1c0>,\n",
       "  <matplotlib.axis.XTick at 0x237d0fe2eb0>,\n",
       "  <matplotlib.axis.XTick at 0x237d10265b0>,\n",
       "  <matplotlib.axis.XTick at 0x237d1026d00>,\n",
       "  <matplotlib.axis.XTick at 0x237d1032490>,\n",
       "  <matplotlib.axis.XTick at 0x237d1026d30>,\n",
       "  <matplotlib.axis.XTick at 0x237d1032c70>,\n",
       "  <matplotlib.axis.XTick at 0x237d1039130>,\n",
       "  <matplotlib.axis.XTick at 0x237d1039880>,\n",
       "  <matplotlib.axis.XTick at 0x237d10420d0>,\n",
       "  <matplotlib.axis.XTick at 0x237d1042760>,\n",
       "  <matplotlib.axis.XTick at 0x237d1042eb0>,\n",
       "  <matplotlib.axis.XTick at 0x237d1042790>,\n",
       "  <matplotlib.axis.XTick at 0x237d1039430>,\n",
       "  <matplotlib.axis.XTick at 0x237d1032b80>,\n",
       "  <matplotlib.axis.XTick at 0x237d10459a0>,\n",
       "  <matplotlib.axis.XTick at 0x237d104f130>,\n",
       "  <matplotlib.axis.XTick at 0x237d104f880>,\n",
       "  <matplotlib.axis.XTick at 0x237d104fb50>],\n",
       " [Text(0, 0, ''),\n",
       "  Text(0, 0, ''),\n",
       "  Text(0, 0, ''),\n",
       "  Text(0, 0, ''),\n",
       "  Text(0, 0, ''),\n",
       "  Text(0, 0, ''),\n",
       "  Text(0, 0, ''),\n",
       "  Text(0, 0, ''),\n",
       "  Text(0, 0, ''),\n",
       "  Text(0, 0, ''),\n",
       "  Text(0, 0, ''),\n",
       "  Text(0, 0, ''),\n",
       "  Text(0, 0, ''),\n",
       "  Text(0, 0, ''),\n",
       "  Text(0, 0, ''),\n",
       "  Text(0, 0, ''),\n",
       "  Text(0, 0, ''),\n",
       "  Text(0, 0, ''),\n",
       "  Text(0, 0, ''),\n",
       "  Text(0, 0, '')])"
      ]
     },
     "execution_count": 12,
     "metadata": {},
     "output_type": "execute_result"
    },
    {
     "data": {
      "image/png": "[encoded data removed]",
      "text/plain": [
       "<Figure size 504x360 with 1 Axes>"
      ]
     },
     "metadata": {
      "needs_background": "light"
     },
     "output_type": "display_data"
    }
   ],
   "source": [
    "# most probable total goals\n",
    "import matplotlib.pyplot as plt\n",
    "from matplotlib import style\n",
    "import seaborn as sns\n",
    "data['total_goals']=data['home_score']+data['away_score']\n",
    "style.use('seaborn-poster')\n",
    "fig = plt.figure(figsize = (7,5))\n",
    "ax = fig.gca()\n",
    "plt.hist(data.loc[(data['date']>2019)].total_goals,bins=5,\n",
    "         edgecolor='black')\n",
    "plt.xticks(range(20))"
   ]
  },
  {
   "cell_type": "code",
   "execution_count": 13,
   "id": "02556541",
   "metadata": {},
   "outputs": [
    {
     "data": {
      "text/plain": [
       "['Solarize_Light2',\n",
       " '_classic_test_patch',\n",
       " 'bmh',\n",
       " 'classic',\n",
       " 'dark_background',\n",
       " 'fast',\n",
       " 'fivethirtyeight',\n",
       " 'ggplot',\n",
       " 'grayscale',\n",
       " 'seaborn',\n",
       " 'seaborn-bright',\n",
       " 'seaborn-colorblind',\n",
       " 'seaborn-dark',\n",
       " 'seaborn-dark-palette',\n",
       " 'seaborn-darkgrid',\n",
       " 'seaborn-deep',\n",
       " 'seaborn-muted',\n",
       " 'seaborn-notebook',\n",
       " 'seaborn-paper',\n",
       " 'seaborn-pastel',\n",
       " 'seaborn-poster',\n",
       " 'seaborn-talk',\n",
       " 'seaborn-ticks',\n",
       " 'seaborn-white',\n",
       " 'seaborn-whitegrid',\n",
       " 'tableau-colorblind10']"
      ]
     },
     "execution_count": 13,
     "metadata": {},
     "output_type": "execute_result"
    }
   ],
   "source": [
    "style.available"
   ]
  },
  {
   "cell_type": "code",
   "execution_count": 15,
   "id": "29ac05de",
   "metadata": {},
   "outputs": [
    {
     "name": "stdout",
     "output_type": "stream",
     "text": [
      "2.744112130054189\n"
     ]
    }
   ],
   "source": [
    "rec_data=data.loc[(data['date']>=2000)]\n",
    "rec_data.iloc[[rec_data.total_goals.argmax()]]\n",
    "print(rec_data.total_goals.mean())"
   ]
  },
  {
   "cell_type": "code",
   "execution_count": 23,
   "id": "9e6f4154",
   "metadata": {},
   "outputs": [],
   "source": [
    "# Poisson probability is: P(x; μ) = (e-μ) (μx) / x!\n",
    "#lam =2.74\n",
    "from scipy.special import factorial\n",
    "import numpy as np\n",
    "#k is no. of event we want to find the probability of\n",
    "\n",
    "def poisson(k,exp_events):\n",
    "    minutes=90\n",
    "    lam =(exp_events)\n",
    "    p_k= np.exp(-lam)*np.power(lam,k)/factorial(k)\n",
    "    #print(f'The probability of {k} goals in {minutes} minutes is {100*p_k:.2f}%.')\n",
    "    return p_k"
   ]
  },
  {
   "cell_type": "code",
   "execution_count": 24,
   "id": "6c77971d",
   "metadata": {},
   "outputs": [],
   "source": [
    "#proability of goals acc to poisson distribution\n",
    "k=[]\n",
    "p_k=[]\n",
    "for i in range(10):\n",
    "    p_k.append(poisson(i,2.74)*100)\n",
    "    k.append(i)"
   ]
  },
  {
   "cell_type": "code",
   "execution_count": 25,
   "id": "5b52ad84",
   "metadata": {},
   "outputs": [
    {
     "data": {
      "image/png": "[encoded data removed]",
      "text/plain": [
       "<Figure size 921.6x633.6 with 1 Axes>"
      ]
     },
     "metadata": {
      "needs_background": "light"
     },
     "output_type": "display_data"
    }
   ],
   "source": [
    "fig = plt.figure()\n",
    "plt.plot(k,p_k,'o-')\n",
    "plt.xticks(range(10))\n",
    "fig.suptitle('Probability of goals in a match',fontsize=25)\n",
    "plt.xlabel('Number of goals')\n",
    "plt.ylabel('Probability (in percenatge)')\n",
    "for x,y in zip(k,p_k):\n",
    "\n",
    "    label = \"{:.2f}\".format(y)\n",
    "\n",
    "    plt.annotate(label, # this is the text\n",
    "                 (x,y), # this is the point to label\n",
    "                 textcoords=\"offset pixels\", # how to position the text\n",
    "                 xytext=(0,4), # distance from text to points (x,y)\n",
    "                 ha='left',fontsize=15)\n",
    "plt.grid(True)"
   ]
  },
  {
   "cell_type": "code",
   "execution_count": 26,
   "id": "c9762fb5",
   "metadata": {},
   "outputs": [
    {
     "name": "stdout",
     "output_type": "stream",
     "text": [
      "                  0\n",
      "count  10000.000000\n",
      "mean       2.725600\n",
      "std        1.661319\n",
      "min        0.000000\n",
      "25%        2.000000\n",
      "50%        3.000000\n",
      "75%        4.000000\n",
      "max       12.000000\n"
     ]
    },
    {
     "data": {
      "image/png": "[encoded data removed]",
      "text/plain": [
       "<Figure size 921.6x633.6 with 1 Axes>"
      ]
     },
     "metadata": {
      "needs_background": "light"
     },
     "output_type": "display_data"
    }
   ],
   "source": [
    "# In 10000 matches simulation goals scored distribution\n",
    "N=10000\n",
    "lam=2.74\n",
    "counts=np.random.poisson(lam,size=N)\n",
    "df=pd.DataFrame(counts)\n",
    "print (df.describe())\n",
    "#print(df[0].value_counts())\n",
    "df.hist(bins=11,edgecolor='white')\n",
    "plt.xticks(range(12))\n",
    "plt.grid(False)"
   ]
  },
  {
   "cell_type": "code",
   "execution_count": 27,
   "id": "8ca96959",
   "metadata": {},
   "outputs": [],
   "source": [
    "#p_n = poisson(np.arange(100),5)"
   ]
  },
  {
   "cell_type": "code",
   "execution_count": 28,
   "id": "af741224",
   "metadata": {},
   "outputs": [],
   "source": [
    "def p_lessorequal(n_query,exp_events,quiet=True):\n",
    "    p_n=poisson(np.arange(100),exp_events)\n",
    "    p=p_n[:n_query+1].sum()\n",
    "    if quiet:\n",
    "        return p\n",
    "    else:\n",
    "        print(f'{exp_events} goals per game.Probability of {n_query} or fewer goals in 1 game: {100*p:.2f}%.')\n",
    "    \n",
    "def p_greaterorequal(n_query,exp_events,quiet=True):\n",
    "    p = 1 - p_lessorequal(n_query,exp_events)\n",
    "    if quiet:\n",
    "        return p\n",
    "    else:\n",
    "        print(f'Probability of more than {n_query} goals in 1 game: {100*p:.2f}%.')\n",
    "        "
   ]
  },
  {
   "cell_type": "code",
   "execution_count": 29,
   "id": "65f46eba",
   "metadata": {},
   "outputs": [
    {
     "name": "stdout",
     "output_type": "stream",
     "text": [
      "Probability of more than 1 goals in 1 game: 75.85%.\n",
      "Probability of more than 2 goals in 1 game: 51.61%.\n",
      "Probability of more than 3 goals in 1 game: 29.47%.\n",
      "Probability of more than 4 goals in 1 game: 14.31%.\n",
      "Probability of more than 5 goals in 1 game: 6.00%.\n",
      "Probability of more than 6 goals in 1 game: 2.21%.\n",
      "Probability of more than 7 goals in 1 game: 0.72%.\n",
      "Probability of more than 8 goals in 1 game: 0.21%.\n",
      "Probability of more than 9 goals in 1 game: 0.06%.\n"
     ]
    }
   ],
   "source": [
    "#probability of scoring more or fewer goals than a particular no.\n",
    "#p_lessorequal(4,2.87,False)\n",
    "for i in range(1,10):\n",
    "    p_greaterorequal(i,2.74,False)"
   ]
  },
  {
   "cell_type": "markdown",
   "id": "a6a25ad3",
   "metadata": {},
   "source": [
    "Now from this, we can calculate the probability of seeing ‘x ‘or fewer number of goals simply by adding the probabilities of ‘x’ and the numbers which are less than ‘x’.And by just subtracting this from 1 we can get the probability of seeing more than ‘x’ goals in a match. Let`s plot this too."
   ]
  },
  {
   "cell_type": "code",
   "execution_count": 30,
   "id": "b511d2e2",
   "metadata": {},
   "outputs": [
    {
     "data": {
      "image/png": "[encoded data removed]",
      "text/plain": [
       "<Figure size 921.6x633.6 with 1 Axes>"
      ]
     },
     "metadata": {
      "needs_background": "light"
     },
     "output_type": "display_data"
    }
   ],
   "source": [
    "prob=[]\n",
    "for i in range(10):\n",
    "    p = p_greaterorequal(i,2.74,True)\n",
    "    prob.append(p*100)\n",
    "fig = plt.figure()\n",
    "plt.plot(k,prob,'o-y')\n",
    "plt.xticks(range(10))\n",
    "fig.suptitle(\"Probability of scoring more than 'X' goals in a match\",fontsize=25)\n",
    "plt.xlabel(\"More than 'X' goals\")\n",
    "plt.ylabel('Probability (in percenatge)')\n",
    "for x,y in zip(k,prob):\n",
    "\n",
    "    label = \"{:.2f}\".format(y)\n",
    "\n",
    "    plt.annotate(label, # this is the text\n",
    "                 (x,y), # this is the point to label\n",
    "                 textcoords=\"offset pixels\", # how to position the text\n",
    "                 xytext=(0,4), # distance from text to points (x,y)\n",
    "                 ha='left',fontsize=15)\n",
    "plt.grid(True)"
   ]
  },
  {
   "cell_type": "markdown",
   "id": "8ebf3c4e",
   "metadata": {},
   "source": [
    "If we switch on to tv at a random time, then the average time we have to wait to see a goal"
   ]
  },
  {
   "cell_type": "markdown",
   "id": "21d0ca53",
   "metadata": {},
   "source": [
    "The wait is over…\n",
    "\n",
    "Now suppose you have an impatient friend who does not want to sit for the whole game. And he comes to you during a match and asks how much time does he has to wait to see a goal. Woah, that`s a tough question right, but worry not, ask him to sit through 10000 games and note the time between each goal. Just kidding, obviously, he would freak out. Actually I simulated 10000 matches and found out the average time."
   ]
  },
  {
   "cell_type": "code",
   "execution_count": 31,
   "id": "710b7115",
   "metadata": {},
   "outputs": [
    {
     "data": {
      "text/plain": [
       "array([39, 19, 70, 15, 72, 35, 44, 85, 51,  5], dtype=int64)"
      ]
     },
     "execution_count": 31,
     "metadata": {},
     "output_type": "execute_result"
    }
   ],
   "source": [
    "events_per_min=(2.74/90)\n",
    "np.random.seed(42)\n",
    "events = np.random.choice([0,1],size=100000,\n",
    "                          replace=True,\n",
    "                          p=[1-events_per_min,events_per_min])\n",
    "success_times = np.where(events==1)[0]\n",
    "waiting_times = np.diff(success_times)\n",
    "waiting_times[:10]"
   ]
  },
  {
   "cell_type": "code",
   "execution_count": 32,
   "id": "a8facd3a",
   "metadata": {},
   "outputs": [],
   "source": [
    "def plot_hist_waiting_time(x):\n",
    "    df = pd.DataFrame(x)\n",
    "    df.hist(bins=100)"
   ]
  },
  {
   "cell_type": "code",
   "execution_count": 33,
   "id": "7b789d60",
   "metadata": {},
   "outputs": [
    {
     "data": {
      "image/png": "[encoded data removed]",
      "text/plain": [
       "<Figure size 921.6x633.6 with 1 Axes>"
      ]
     },
     "metadata": {
      "needs_background": "light"
     },
     "output_type": "display_data"
    }
   ],
   "source": [
    "plot_hist_waiting_time(waiting_times)"
   ]
  },
  {
   "cell_type": "markdown",
   "id": "c8768c1d",
   "metadata": {},
   "source": [
    "The most likely waiting time is 2 minutes. But wait this not actually what I was looking for, I want the average time that I have to wait to see a goal if I start watching the game at a random time. For that, I will take 10000 instances, where each instance is watching 10000 games and calculating the average waiting time between goals in that 10000 games and reporting us. Finally, I will be plotting those 10000 reports from each of my instances and find out the expected average waiting time."
   ]
  },
  {
   "cell_type": "code",
   "execution_count": 34,
   "id": "528a360c",
   "metadata": {},
   "outputs": [],
   "source": [
    "#Simulating avg time for 10000 matches to get the actual average time\n",
    "avg = []\n",
    "events_per_minute=(2.74/90)\n",
    "for i in range(10000):\n",
    "    avg.append(np.mean(np.diff(np.where(np.random.choice([0, 1], size = 100000, replace=True, \n",
    "                          p=[1-events_per_minute, events_per_minute]) == 1)[0])))"
   ]
  },
  {
   "cell_type": "code",
   "execution_count": 35,
   "id": "cdab3da0",
   "metadata": {},
   "outputs": [
    {
     "name": "stdout",
     "output_type": "stream",
     "text": [
      "                  0\n",
      "count  10000.000000\n",
      "mean      32.854856\n",
      "std        0.585513\n",
      "min       30.843731\n",
      "25%       32.454870\n",
      "50%       32.845395\n",
      "75%       33.247650\n",
      "max       35.231583\n"
     ]
    },
    {
     "data": {
      "text/plain": [
       "<Figure size 921.6x633.6 with 0 Axes>"
      ]
     },
     "metadata": {},
     "output_type": "display_data"
    },
    {
     "data": {
      "image/png": "[encoded data removed]",
      "text/plain": [
       "<Figure size 921.6x633.6 with 1 Axes>"
      ]
     },
     "metadata": {
      "needs_background": "light"
     },
     "output_type": "display_data"
    }
   ],
   "source": [
    "df= pd.DataFrame(avg)\n",
    "print(df.describe())\n",
    "fig = plt.figure()\n",
    "df.hist(bins=100,edgecolor='white')\n",
    "plt.title('Average Waiting time to see a Goal',fontsize=25)\n",
    "plt.xlabel('Time(min)')\n",
    "plt.grid(True)"
   ]
  },
  {
   "cell_type": "markdown",
   "id": "e2512811",
   "metadata": {},
   "source": [
    "It looks like we have to wait for 33 minutes approx. However we may have to wait for more, this is a classic Waiting Time Paradox"
   ]
  },
  {
   "cell_type": "markdown",
   "id": "2df45b63",
   "metadata": {},
   "source": [
    "Predicting the scoreline\n",
    "\n",
    "Finally, let`s do the question with which we started and the most exciting question that who will win and what will be the scoreline to be precise.\n",
    "\n",
    "For this, I will use the history between two teams (let them consider as the home team and away team) and take the average_home_score as the expected goals for the home team and average_away_score as the expected goals for the away team and predict the scoreline using Poisson distribution. In case the teams have fewer encounters between them, we will consider a few factors\n",
    "\n",
    "HS = Mean of home goals scored by the home team throughout history.\n",
    "\n",
    "AS = Mean of away goals scored by away team throughout history.\n",
    "\n",
    "HC = Mean of goals conceded in home matches by the home team.\n",
    "\n",
    "AC = Mean of goals conceded in away matches by the away team.\n",
    "\n",
    "So, the Home team’s expected score will be calculated as (HS + AC) / 2\n",
    "\n",
    "So, the Away team’s expected score will be calculated as  (AS + HC) / 2\n",
    "\n",
    "Wait, the expected score is not the predicted score. The expected score is the average number of goals we expect them to score in a game between them."
   ]
  },
  {
   "cell_type": "code",
   "execution_count": 36,
   "id": "0e682683",
   "metadata": {},
   "outputs": [
    {
     "data": {
      "text/plain": [
       "13"
      ]
     },
     "execution_count": 36,
     "metadata": {},
     "output_type": "execute_result"
    }
   ],
   "source": [
    "len(data[(data.home_team =='England') & (data.away_team =='France')])"
   ]
  },
  {
   "cell_type": "code",
   "execution_count": 37,
   "id": "0a498df8",
   "metadata": {},
   "outputs": [],
   "source": [
    "data['home_team'] = data['home_team'].apply(lambda x: (''.join(x.split())).lower())\n",
    "data['away_team'] = data['away_team'].apply(lambda x: (''.join(x.split())).lower())"
   ]
  },
  {
   "cell_type": "code",
   "execution_count": 38,
   "id": "c50fb953",
   "metadata": {},
   "outputs": [
    {
     "name": "stdout",
     "output_type": "stream",
     "text": [
      "4\n"
     ]
    }
   ],
   "source": [
    "import numpy as np\n",
    "from scipy import stats\n",
    "counts = np.random.poisson(2.87,10)\n",
    "print(int(stats.mode(counts)[0]))"
   ]
  },
  {
   "cell_type": "code",
   "execution_count": 39,
   "id": "2b43f1a8",
   "metadata": {},
   "outputs": [],
   "source": [
    "import pandas as pd\n",
    "import numpy as np\n",
    "from scipy import stats \n",
    "\n",
    "def PredictScore():\n",
    "    \n",
    "    home_team = input(\"Enter Home Team: \")\n",
    "    ht = (''.join(home_team.split())).lower()\n",
    "    away_team = input(\"Enter Away Team: \")\n",
    "    at = (''.join(away_team.split())).lower()\n",
    "    \n",
    "    if len(data[(data.home_team ==ht) & (data.away_team ==at)]) > 20:\n",
    "        \n",
    "        avg_home_score = data[(data.home_team ==ht) & (data.away_team ==at)].home_score.mean()\n",
    "        avg_away_score = data[(data.home_team ==ht) & (data.away_team ==at)].away_score.mean()\n",
    "        \n",
    "        home_goal = int(stats.mode(np.random.poisson(avg_home_score,100000))[0])                    \n",
    "        away_goal = int(stats.mode(np.random.poisson(avg_away_score,100000))[0])\n",
    "        \n",
    "    else:\n",
    "        avg_home_goal_conceded = data[(data.home_team ==ht)].away_score.mean()\n",
    "        avg_away_goal_scored   = data[(data.away_team ==at)].away_score.mean()\n",
    "        away_goal = int(stats.mode(np.random.poisson(1/2*(avg_home_goal_conceded+avg_away_goal_scored),100000))[0])\n",
    "        \n",
    "        avg_away_goal_conceded = data[(data.home_team ==at)].home_score.mean()\n",
    "        avg_home_goal_scored   = data[(data.away_team ==ht)].home_score.mean()\n",
    "        home_goal = int(stats.mode(np.random.poisson(1/2*(avg_away_goal_conceded+avg_home_goal_scored),100000))[0])\n",
    "    \n",
    "    avg_total_score = int(stats.mode(\n",
    "        np.random.poisson((data[(data.home_team ==ht) & (data.away_team ==at)].total_goals.mean()),100000))[0])\n",
    "    \n",
    "    print(f'Expected total goals are {avg_total_score}')\n",
    "    print(f'They have played {len(data[(data.home_team ==ht) & (data.away_team ==at)])} matches')\n",
    "    print(f'The scoreline is {home_team} {home_goal}:{away_goal} {away_team}')"
   ]
  },
  {
   "cell_type": "markdown",
   "id": "97991f0f",
   "metadata": {},
   "source": [
    "Let`s try with Brazil as the home team and Mexico as the away team."
   ]
  },
  {
   "cell_type": "code",
   "execution_count": 40,
   "id": "a8618cd6",
   "metadata": {},
   "outputs": [
    {
     "name": "stdout",
     "output_type": "stream",
     "text": [
      "Enter Home Team: Brazil\n",
      "Enter Away Team: England\n",
      "Expected total goals are 2\n",
      "They have played 12 matches\n",
      "The scoreline is Brazil 1:1 England\n"
     ]
    }
   ],
   "source": [
    "PredictScore()"
   ]
  },
  {
   "cell_type": "code",
   "execution_count": null,
   "id": "7ef1e6fa",
   "metadata": {},
   "outputs": [],
   "source": []
  }
 ],
 "metadata": {
  "kernelspec": {
   "display_name": "Python 3 (ipykernel)",
   "language": "python",
   "name": "python3"
  },
  "language_info": {
   "codemirror_mode": {
    "name": "ipython",
    "version": 3
   },
   "file_extension": ".py",
   "mimetype": "text/x-python",
   "name": "python",
   "nbconvert_exporter": "python",
   "pygments_lexer": "ipython3",
   "version": "3.9.7"
  }
 },
 "nbformat": 4,
 "nbformat_minor": 5
}
